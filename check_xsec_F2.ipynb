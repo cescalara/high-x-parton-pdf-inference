{
 "cells": [
  {
   "cell_type": "markdown",
   "id": "remarkable-nerve",
   "metadata": {},
   "source": [
    "# Check the structure function and cross-section values"
   ]
  },
  {
   "cell_type": "code",
   "execution_count": 1,
   "id": "pregnant-batman",
   "metadata": {
    "ExecuteTime": {
     "end_time": "2022-08-24T09:44:06.355000+02:00",
     "start_time": "2022-08-24T07:43:54.077Z"
    }
   },
   "outputs": [
    {
     "name": "stderr",
     "output_type": "stream",
     "text": [
      "┌ Warning: The active manifest file is an older format with no julia version entry. Dependencies may have been resolved with a different julia version.\n",
      "└ @ nothing /Users/fran/projects/high-x-parton-pdf-inference/Manifest.toml:0\n"
     ]
    }
   ],
   "source": [
    "using Pkg\n",
    "\n",
    "# Uncomment below to update PartonDensity/BAT!\n",
    "#Pkg.rm(\"BAT\")\n",
    "#Pkg.add(url=\"https://github.com/bat/BAT.jl.git\", rev=\"main\")\n",
    "#Pkg.rm(\"PartonDensity\")\n",
    "#Pkg.add(url=\"https://github.com/cescalara/PartonDensity.jl.git\")\n",
    "\n",
    "Pkg.instantiate()"
   ]
  },
  {
   "cell_type": "code",
   "execution_count": 2,
   "id": "5bd89119",
   "metadata": {},
   "outputs": [],
   "source": [
    "using PartonDensity, QCDNUM\n",
    "using BAT, StatsBase, NaNMath\n",
    "using Plots, DataFrames"
   ]
  },
  {
   "cell_type": "markdown",
   "id": "historic-samoa",
   "metadata": {},
   "source": [
    "Load results"
   ]
  },
  {
   "cell_type": "code",
   "execution_count": 3,
   "id": "1cc82d98",
   "metadata": {},
   "outputs": [],
   "source": [
    "# Results\n",
    "samples = bat_read(\"Data-Dirichlet-Kqfree.h5\").result;\n",
    "samples_mode = mode(samples)\n",
    "\n",
    "# As in PDF-fit-dirichlet.ipynb\n",
    "qcdnum_grid = QCDNUMGrid(x_min=[1.0e-3, 1.0e-1, 5.0e-1], x_weights=[1, 2, 2], nx=100,\n",
    "                         qq_bounds=[1.0e2, 3.0e4], qq_weights=[1.0, 1.0], nq=50, \n",
    "                         spline_interp=3)\n",
    "qcdnum_params = QCDNUMParameters(order=2, α_S=0.118, q0=100.0, grid=qcdnum_grid,\n",
    "                                 n_fixed_flav=5, iqc=1, iqb=1, iqt=1, weight_type=1);\n",
    "splint_params = SPLINTParameters();\n",
    "quark_coeffs = QuarkCoefficients();"
   ]
  },
  {
   "cell_type": "code",
   "execution_count": 4,
   "id": "1c67e36c",
   "metadata": {},
   "outputs": [],
   "source": [
    "weights = [3.0, 1.0, 5.0, 5.0, 1.0, 1.0, 1.0, 0.5, 0.5]\n",
    "pdf_params = DirichletPDFParams(K_u=4.0, K_d=6.0, λ_g1=0.7, λ_g2=-0.4,\n",
    "    K_g=6.0, λ_q=-0.5, K_q=5, seed=5, weights=weights);"
   ]
  },
  {
   "cell_type": "markdown",
   "id": "b8411fa6",
   "metadata": {},
   "source": [
    "Define PDF"
   ]
  },
  {
   "cell_type": "code",
   "execution_count": 5,
   "id": "1994ed77",
   "metadata": {},
   "outputs": [],
   "source": [
    "samples_mode.K_u"
   ]
  },
  {
   "cell_type": "code",
   "execution_count": null,
   "id": "3d210a1d",
   "metadata": {},
   "outputs": [],
   "source": [
    "pdf_params = DirichletPDFParams(K_u=samples_mode.K_u, K_d=samples_mode.K_d, λ_g1=samples_mode.λ_g1, \n",
    "λ_g2=samples_mode.λ_g2, K_g=samples_mode.K_g, λ_q=samples_mode.λ_q, K_q=samples_mode.K_q, θ=samples_mode.θ)\n",
    "\n",
    "plot_input_pdfs(pdf_params)"
   ]
  },
  {
   "cell_type": "markdown",
   "id": "0f2f0b52",
   "metadata": {},
   "source": [
    "Evolve with QCDNUM"
   ]
  },
  {
   "cell_type": "code",
   "execution_count": null,
   "id": "6f434c54",
   "metadata": {},
   "outputs": [],
   "source": [
    "QCDNUM.qcinit(-6, \"\")\n",
    "QCDNUM.setord(qcdnum_params.order)\n",
    "QCDNUM.setalf(qcdnum_params.α_S, qcdnum_params.q0)"
   ]
  },
  {
   "cell_type": "code",
   "execution_count": null,
   "id": "d878736d",
   "metadata": {},
   "outputs": [],
   "source": [
    "g = qcdnum_params.grid\n",
    "QCDNUM.gxmake(g.x_min, g.x_weights, g.x_num_bounds, g.nx,\n",
    "    g.spline_interp);\n",
    "QCDNUM.gqmake(g.qq_bounds, g.qq_weights, g.qq_num_bounds, g.nq);\n",
    "\n",
    "QCDNUM.setcbt(qcdnum_params.n_fixed_flav, qcdnum_params.iqc,\n",
    "    qcdnum_params.iqb, qcdnum_params.iqt);\n",
    "\n",
    "nw = QCDNUM.fillwt(qcdnum_params.weight_type)\n",
    "nw = QCDNUM.zmfillw()\n",
    "\n",
    "my_func = get_input_pdf_func(pdf_params)\n",
    "input_pdf = @cfunction(my_func, Float64, (Ref{Int32}, Ref{Float64}))\n",
    "\n",
    "iq0 = QCDNUM.iqfrmq(qcdnum_params.q0)\n",
    "pdf_loc = 1\n",
    "eps = QCDNUM.evolfg(pdf_loc, input_pdf, input_pdf_map, iq0)"
   ]
  },
  {
   "cell_type": "markdown",
   "id": "368a0673",
   "metadata": {},
   "source": [
    "Make splines"
   ]
  },
  {
   "cell_type": "code",
   "execution_count": null,
   "id": "a16e5fd7",
   "metadata": {},
   "outputs": [],
   "source": [
    "if !PartonDensity.splint_init_complete\n",
    "    QCDNUM.ssp_spinit(splint_params.nuser)\n",
    "end\n",
    "ia = QCDNUM.isp_s2make(splint_params.nsteps_x, splint_params.nsteps_q);\n",
    "xnd = QCDNUM.ssp_unodes(ia, splint_params.nnodes_x, 0);\n",
    "qnd = QCDNUM.ssp_vnodes(ia, splint_params.nnodes_q, 0);\n",
    "\n",
    "QCDNUM.ssp_nprint(ia);\n",
    "QCDNUM.ssp_erase(ia);\n",
    "\n",
    "iaFLup = QCDNUM.isp_s2user(xnd, splint_params.nnodes_x, qnd, splint_params.nnodes_q);\n",
    "QCDNUM.ssp_s2f123(iaFLup, pdf_loc, quark_coeffs.proup, 1, 0.0);\n",
    "\n",
    "iaF2up = QCDNUM.isp_s2user(xnd, splint_params.nnodes_x, qnd, splint_params.nnodes_q);\n",
    "QCDNUM.ssp_s2f123(iaF2up, pdf_loc, quark_coeffs.proup, 2, 0.0);\n",
    "\n",
    "iaF3up = QCDNUM.isp_s2user(xnd, splint_params.nnodes_x, qnd, splint_params.nnodes_q);\n",
    "QCDNUM.ssp_s2f123(iaF3up, pdf_loc, quark_coeffs.valup, 3, 0.0);\n",
    "\n",
    "iaFLdn = QCDNUM.isp_s2user(xnd, splint_params.nnodes_x, qnd, splint_params.nnodes_q);\n",
    "QCDNUM.ssp_s2f123(iaFLdn, pdf_loc, quark_coeffs.prodn, 1, 0.0);\n",
    "\n",
    "iaF2dn = QCDNUM.isp_s2user(xnd, splint_params.nnodes_x, qnd, splint_params.nnodes_q);\n",
    "QCDNUM.ssp_s2f123(iaF2dn, pdf_loc, quark_coeffs.prodn, 2, 0.0);\n",
    "\n",
    "iaF3dn = QCDNUM.isp_s2user(xnd, splint_params.nnodes_x, qnd, splint_params.nnodes_q);\n",
    "QCDNUM.ssp_s2f123(iaF3dn, 1, quark_coeffs.valdn, 3, 0.0);\n",
    "\n",
    "QCDNUM.ssp_uwrite(splint_params.spline_addresses.F2up, Float64(iaF2up));\n",
    "QCDNUM.ssp_uwrite(splint_params.spline_addresses.F2dn, Float64(iaF2dn));\n",
    "QCDNUM.ssp_uwrite(splint_params.spline_addresses.F3up, Float64(iaF3up));\n",
    "QCDNUM.ssp_uwrite(splint_params.spline_addresses.F3dn, Float64(iaF3dn));\n",
    "QCDNUM.ssp_uwrite(splint_params.spline_addresses.FLup, Float64(iaFLup));\n",
    "QCDNUM.ssp_uwrite(splint_params.spline_addresses.FLdn, Float64(iaFLdn));\n",
    "\n",
    "my_func = get_input_xsec_func()\n",
    "input_xsec = @cfunction(my_func, Float64, (Ref{Int32}, Ref{Int32}, Ref{UInt8}))"
   ]
  },
  {
   "cell_type": "code",
   "execution_count": null,
   "id": "61501de1",
   "metadata": {},
   "outputs": [],
   "source": [
    "xsec_on_grid = zeros(g.nx, g.nq);\n",
    "\n",
    "for ix = 1:g.nx\n",
    "    for iq = 1:g.nq\n",
    "        xsec_on_grid[ix, iq] = _fun_xsec_i(ix, iq)\n",
    "    end\n",
    "end\n",
    "\n",
    "qcdnum_x_grid = QCDNUM.gxcopy(g.nx)\n",
    "qcdnum_qq_grid = QCDNUM.gqcopy(g.nq)\n",
    "p1 = heatmap(qcdnum_x_grid, qcdnum_qq_grid, NaNMath.log10.(xsec_on_grid[:, :]'))\n",
    "plot(p1, xlabel=\"x\", ylabel=\"q2\",\n",
    "    xaxis=:log, yaxis=:log)"
   ]
  },
  {
   "cell_type": "markdown",
   "id": "f17f6f54",
   "metadata": {},
   "source": [
    "Find xsec values at bin centres"
   ]
  },
  {
   "cell_type": "code",
   "execution_count": null,
   "id": "137b9764",
   "metadata": {},
   "outputs": [],
   "source": [
    "nbins = 153\n",
    "q2_bin_cens = Any[]\n",
    "x_bin_cens = Any[]\n",
    "for i in 1:nbins\n",
    "    (q2_edges, x_edges) = get_bin_info(i, quiet=true);\n",
    "    push!(q2_bin_cens, mean(q2_edges))\n",
    "    push!(x_bin_cens, mean(x_edges))\n",
    "end"
   ]
  },
  {
   "cell_type": "code",
   "execution_count": null,
   "id": "adad7d23",
   "metadata": {},
   "outputs": [],
   "source": [
    "xsec_in_bins = zeros(nbins)\n",
    "F2_in_bins = zeros(nbins)\n",
    "\n",
    "ZMass = 91.1876\n",
    "WMass = 80.398\n",
    "AlphaEM = 7.297352570e-03\n",
    "GFermi = 1.16637e-05\n",
    "TopMass = 171.2\n",
    "BottomMass = 4.20\n",
    "\n",
    "Vub = 41.2e-3\n",
    "Vcb = 3.93e-3\n",
    "\n",
    "Sin2ThetaW = 0.23127\n",
    "Sin2ThetaC = 0.05\n",
    "vu = 0.19164\n",
    "vd = -0.34582\n",
    "ve = -0.03746\n",
    "\n",
    "au = 0.5\n",
    "ad = -0.5\n",
    "ae = -0.5\n",
    "\n",
    "for i = 1:nbins\n",
    "        ix = QCDNUM.ixfrmx(x_bin_cens[i])\n",
    "        iq = QCDNUM.iqfrmq(q2_bin_cens[i])\n",
    "        xsec_in_bins[i] = _fun_xsec_i(ix, iq)\n",
    "        \n",
    "        iF2up = Int32(QCDNUM.dsp_uread(1))\n",
    "        iF2dn = Int32(QCDNUM.dsp_uread(2))\n",
    "        pz = q2_bin_cens[i] / ((ZMass * ZMass + q2_bin_cens[i]) * (4 * (Sin2ThetaW) * (1 - Sin2ThetaW)))\n",
    "        Au = 4.0 / 9.0 - 2 * pz * (2.0 / 3.0) * (vu) * (ve) + pz * pz * (ve * ve + ae * ae) * (vu * vu + au * au)\n",
    "        Ad = 1.0 / 9.0 - 2 * pz * (-1.0 / 3.0) * (vd) * (ve) + pz * pz * (ve * ve + ae * ae) * (vd * vd + ad * ad)\n",
    "        F2_in_bins[i] = Au * QCDNUM.dsp_funs2(iF2up, x_bin_cens[i], q2_bin_cens[i], 1) + Ad * QCDNUM.dsp_funs2(iF2dn, x_bin_cens[i], q2_bin_cens[i], 1)\n",
    "end"
   ]
  },
  {
   "cell_type": "markdown",
   "id": "38341bf3",
   "metadata": {},
   "source": [
    "Write to file"
   ]
  },
  {
   "cell_type": "code",
   "execution_count": null,
   "id": "3b13dcce",
   "metadata": {},
   "outputs": [],
   "source": [
    "data_frame = DataFrame(x_bin_cens=x_bin_cens, q2_bin_cens=q2_bin_cens, diff_xsec=xsec_in_bins, F2=F2_in_bins)"
   ]
  },
  {
   "cell_type": "code",
   "execution_count": null,
   "id": "befb869d",
   "metadata": {},
   "outputs": [],
   "source": [
    "using CSV"
   ]
  },
  {
   "cell_type": "code",
   "execution_count": null,
   "id": "1f712782",
   "metadata": {},
   "outputs": [],
   "source": [
    "output = \"xsec_F2_best_fit_params.csv\"\n",
    "CSV.write(output, data_frame)"
   ]
  },
  {
   "cell_type": "code",
   "execution_count": null,
   "id": "040b9e7f",
   "metadata": {},
   "outputs": [],
   "source": [
    "new_data_frame = DataFrame(CSV.File(output))"
   ]
  },
  {
   "cell_type": "code",
   "execution_count": null,
   "id": "a2d3d889",
   "metadata": {},
   "outputs": [],
   "source": []
  }
 ],
 "metadata": {
  "kernelspec": {
   "display_name": "Julia 1.7.0-rc2",
   "language": "julia",
   "name": "julia-1.7"
  },
  "language_info": {
   "file_extension": ".jl",
   "mimetype": "application/julia",
   "name": "julia",
   "version": "1.7.0-rc2"
  },
  "vscode": {
   "interpreter": {
    "hash": "a8532b4e3ba2098629355c7cf38b32f9fdbaceac778e64d650bb69a4958573ab"
   }
  }
 },
 "nbformat": 4,
 "nbformat_minor": 5
}
